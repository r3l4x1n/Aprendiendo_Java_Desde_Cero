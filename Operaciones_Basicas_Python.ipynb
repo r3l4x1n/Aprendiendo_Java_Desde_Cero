{
  "nbformat": 4,
  "nbformat_minor": 0,
  "metadata": {
    "colab": {
      "provenance": [],
      "authorship_tag": "ABX9TyMsnKAqUtlu2rgqwtpWJeLh",
      "include_colab_link": true
    },
    "kernelspec": {
      "name": "python3",
      "display_name": "Python 3"
    },
    "language_info": {
      "name": "python"
    }
  },
  "cells": [
    {
      "cell_type": "markdown",
      "metadata": {
        "id": "view-in-github",
        "colab_type": "text"
      },
      "source": [
        "<a href=\"https://colab.research.google.com/github/r3l4x1n/Aprendiendo_Java_Desde_Cero/blob/main/Operaciones_Basicas_Python.ipynb\" target=\"_parent\"><img src=\"https://colab.research.google.com/assets/colab-badge.svg\" alt=\"Open In Colab\"/></a>"
      ]
    },
    {
      "cell_type": "code",
      "source": [
        "#################### PUNTO 1 ########################\n",
        "# Evaluar las siguientes expresiones:\n",
        "\n",
        "A = 3+6*14\n",
        "B = 12 + 3 * 7 + 5 * 4\n",
        "C = 7 * 8 % 2 * 7 + 9\n",
        "C1 = 7 * 8 // 2 * 7 + 9  #La expresion \"//\" representa correctamente la operacion como una division de enteros.\n",
        "D = 7*(10-5) - 34 % 3 * 5+7\n",
        "E = 12 + 4/2 + (15-3) * 5+7 #La expresion \"/\" realiza una división aritmetica, devolviendo reales.\n",
        "F = -16 + 3 * 6 + 14 * 8\n",
        "\n",
        "print(\"El valor de A es:\", A)\n",
        "print(\"El valor de B es:\", B)\n",
        "print(\"El valor de C es:\", C)\n",
        "print(\"El valor de C1 es:\", C1)\n",
        "print(\"El valor de D es:\", D)\n",
        "print(\"El valor de E es:\", E)\n",
        "print(\"El valor de F es:\", F)\n"
      ],
      "metadata": {
        "colab": {
          "base_uri": "https://localhost:8080/"
        },
        "id": "aj-D0Busb0jq",
        "outputId": "950e7bdf-5cec-48bc-9d35-edd99feaf6fd"
      },
      "execution_count": null,
      "outputs": [
        {
          "output_type": "stream",
          "name": "stdout",
          "text": [
            "El valor de A es: 87\n",
            "El valor de B es: 53\n",
            "El valor de C es: 9\n",
            "El valor de C1 es: 205\n",
            "El valor de D es: 37\n",
            "El valor de E es: 81.0\n",
            "El valor de F es: 114\n"
          ]
        }
      ]
    },
    {
      "cell_type": "code",
      "execution_count": null,
      "metadata": {
        "colab": {
          "base_uri": "https://localhost:8080/"
        },
        "id": "M033zOvpX3rE",
        "outputId": "89c6d0e9-022f-40eb-a1d2-c72dc3fb1c0b"
      },
      "outputs": [
        {
          "output_type": "stream",
          "name": "stdout",
          "text": [
            "El valor de X es: 13.75\n",
            "El valor de Y es: 2.2222222222222223\n",
            "El valor de Z es: 324.0\n",
            "\n",
            "Resultado con funciones:\n",
            "El valor de X es: 14\n",
            "El valor de Y es: 2\n",
            "El valor de Z es: 324\n"
          ]
        }
      ],
      "source": [
        "################### PUNTO 2 ########################\n",
        "# Si el valor de A=4, el de B=5 y el de C=1, muestre cuáles son los valores de X, Y y Z:\n",
        "\n",
        "A = 4\n",
        "B = 5\n",
        "C = 1\n",
        "\n",
        "X = B*A - B**2 / (4*C)\n",
        "Y = A*B / 3**2\n",
        "Z = (((B + C) / 2 * A + 10) * 3 * B) - 6\n",
        "\n",
        "print(\"El valor de X es:\", X)\n",
        "print(\"El valor de Y es:\", Y)\n",
        "print(\"El valor de Z es:\", Z)\n",
        "print()\n",
        "############## PUNTO 2 CON FUNCIONES ################\n",
        "import math\n",
        "\n",
        "A = 4\n",
        "B = 5\n",
        "C = 1\n",
        "\n",
        "def calcular_X():\n",
        "    return B*A - B**2 // (4 * C)\n",
        "\n",
        "def calcular_Y():\n",
        "    return A * B // (3**2)\n",
        "\n",
        "def calcular_Z():\n",
        "  return (((B + C) // 2 * A + 10) * 3 * B) - 6\n",
        "\n",
        "X = calcular_X()\n",
        "Y = calcular_Y()\n",
        "Z = calcular_Z()\n",
        "\n",
        "print(\"Resultado con funciones:\")\n",
        "print(\"El valor de X es:\", X)\n",
        "print(\"El valor de Y es:\", Y)\n",
        "print(\"El valor de Z es:\", Z)"
      ]
    },
    {
      "cell_type": "code",
      "source": [
        "#################### PUNTO 3 ########################\n",
        "# Si el valor de A=4, el de B=5 y el de C=1, diga qué valores se muestran en las variables P, R y S.\n",
        "\n",
        "A = 4\n",
        "B = 5\n",
        "C = 1\n",
        "\n",
        "P = A ** (1 / 2) ** B\n",
        "R = A * B + A ** (1 / 2)\n",
        "S = B * A - B ** 2 / 4 * C\n",
        "\n",
        "print(f\"Valor de P: {P}\")\n",
        "print(f\"Valor de R: {R}\")\n",
        "print(f\"Valor de S: {S}\")"
      ],
      "metadata": {
        "id": "OQ86znylbd9C",
        "colab": {
          "base_uri": "https://localhost:8080/"
        },
        "outputId": "ebc4e196-f863-42ad-f25d-ca87f11efe58"
      },
      "execution_count": null,
      "outputs": [
        {
          "output_type": "stream",
          "name": "stdout",
          "text": [
            "Valor de P: 1.0442737824274138\n",
            "Valor de R: 22.0\n",
            "Valor de S: 13.75\n"
          ]
        }
      ]
    },
    {
      "cell_type": "code",
      "source": [
        "#################### PUNTO 4 ########################\n",
        "# Si A=4 y B=3, cuál es el resultado de las siguientes expresiones?\n",
        "\n",
        "A = 4\n",
        "B = 3\n",
        "\n",
        "X = A < B\n",
        "Y = (A - 2) < (B + 5)\n",
        "Z = A * (12 - 5) > B * 3\n",
        "D = A + B > B ** 2\n",
        "\n",
        "print(\"X =\", X)\n",
        "print(\"Y =\", Y)\n",
        "print(\"Z =\", Z)\n",
        "print(\"D =\", D)"
      ],
      "metadata": {
        "colab": {
          "base_uri": "https://localhost:8080/"
        },
        "id": "RdZAgZN8ikX0",
        "outputId": "d110ff9d-7b06-47b1-9b52-113bb5732ca6"
      },
      "execution_count": null,
      "outputs": [
        {
          "output_type": "stream",
          "name": "stdout",
          "text": [
            "X = False\n",
            "Y = True\n",
            "Z = True\n",
            "D = False\n"
          ]
        }
      ]
    },
    {
      "cell_type": "code",
      "source": [
        "#################### PUNTO 5 ########################\n",
        "# Si X=3 y Y=3, cuál es el resultado de las siguientes expresiones?\n",
        "\n",
        "X = 3\n",
        "Y = 3\n",
        "\n",
        "A = X > Y\n",
        "B = X < 6.5\n",
        "C = X >= 8\n",
        "D = Y <= X + 2\n",
        "\n",
        "print(\"A =\", A)\n",
        "print(\"B =\", B)\n",
        "print(\"C =\", C)\n",
        "print(\"D =\", D)\n"
      ],
      "metadata": {
        "colab": {
          "base_uri": "https://localhost:8080/"
        },
        "id": "Nzrx-6zSjwUj",
        "outputId": "12d7bacb-9706-4cda-deee-2b9ade91ece3"
      },
      "execution_count": null,
      "outputs": [
        {
          "output_type": "stream",
          "name": "stdout",
          "text": [
            "A = False\n",
            "B = True\n",
            "C = False\n",
            "D = True\n"
          ]
        }
      ]
    },
    {
      "cell_type": "code",
      "source": [
        "#################### PUNTO 6 ########################\n",
        "#Identifica el tipo de dato (int, float, string o list) de los siguientes valores literales:\n",
        "\n",
        "# \"Hola Mundo\"\n",
        "# [1, 10, 100]\n",
        "#-25\n",
        "# [\"Hola\", \"Mundo\"]\n",
        "# ' '\n",
        "# 1.167\n",
        "\n",
        "valores = [\"Hola Mundo\", [1, 10, 100], -25, [\"Hola\", \"Mundo\"], ' ', 1.167]\n",
        "\n",
        "for valor in valores:\n",
        "    print(f\"El tipo de dato de '{valor}' es {type(valor)}\")"
      ],
      "metadata": {
        "id": "v1sbYH63k3Px",
        "colab": {
          "base_uri": "https://localhost:8080/"
        },
        "outputId": "dde930c1-3b8a-4bad-d61b-1faa012dd80f"
      },
      "execution_count": null,
      "outputs": [
        {
          "output_type": "stream",
          "name": "stdout",
          "text": [
            "El tipo de dato de 'Hola Mundo' es <class 'str'>\n",
            "El tipo de dato de '[1, 10, 100]' es <class 'list'>\n",
            "El tipo de dato de '-25' es <class 'int'>\n",
            "El tipo de dato de '['Hola', 'Mundo']' es <class 'list'>\n",
            "El tipo de dato de ' ' es <class 'str'>\n",
            "El tipo de dato de '1.167' es <class 'float'>\n"
          ]
        }
      ]
    },
    {
      "cell_type": "code",
      "source": [
        "#################### PUNTO 8 ########################\n",
        "# El siguiente código pretende realizar una media entre 3 números, pero no funciona correctamente. ¿Eres capaz de identificar el problema y solucionarlo?\n",
        "\n",
        "numero_1 = 9\n",
        "numero_2 = 3\n",
        "numero_3 = 6\n",
        "media = numero_1 + numero_2 + numero_3 / 3\n",
        "print(\"La nota media es\", media)\n",
        "\n",
        "#Lo que esta afectando el codigo de arriba, es la precedencia ya que la diviciion se esta ejecutando primero, antes que la suma de los numeros.\n",
        "numero_1 = 9\n",
        "numero_2 = 3\n",
        "numero_3 = 6\n",
        "media = (numero_1 + numero_2 + numero_3) / 3\n",
        "print(\"La nota media es =\", media)\n"
      ],
      "metadata": {
        "id": "By3DfdlWKgv4"
      },
      "execution_count": null,
      "outputs": []
    },
    {
      "cell_type": "code",
      "source": [
        "#################### PUNTO 9 ########################\n",
        "# Realiza un programa que lea 2 números por teclado y determine los siguientes aspectos (es suficiene con mostrar True o False):\n",
        "# Si los dos números son iguales.\n",
        "# Si los dos números son diferentes.\n",
        "# Si el primero es mayor que el segundo.\n",
        "# Si el segundo es mayor o igual que el primero.\n",
        "\n",
        "def leer_numero():\n",
        "  while True:\n",
        "    try:\n",
        "      numero = int(input(\"Ingresa un número: \"))\n",
        "      if numero != \"\":\n",
        "        return numero\n",
        "      else:\n",
        "        print(\"El campo no puede estar vacío.\")\n",
        "    except ValueError:\n",
        "      print(\"El valor ingresado no es un número válido.\")\n",
        "\n",
        "primer_numero = leer_numero()\n",
        "segundo_numero = leer_numero()\n",
        "\n",
        "son_iguales = primer_numero == segundo_numero\n",
        "son_diferentes = primer_numero != segundo_numero\n",
        "primero_mayor = primer_numero > segundo_numero\n",
        "segundo_mayor_igual = segundo_numero >= primer_numero\n",
        "\n",
        "print(\"Los dos números son iguales?\", son_iguales)\n",
        "print(\"Los dos números son diferentes?\", son_diferentes)\n",
        "print(\"El primero es mayor que el segundo?\", primero_mayor)\n",
        "print(\"El segundo es mayor o igual que el primero?\", segundo_mayor_igual)"
      ],
      "metadata": {
        "id": "4y-vfkN3dqc1",
        "colab": {
          "base_uri": "https://localhost:8080/"
        },
        "outputId": "3c41af31-28b6-4f6b-eed3-2b3c5c44e481"
      },
      "execution_count": null,
      "outputs": [
        {
          "output_type": "stream",
          "name": "stdout",
          "text": [
            "Ingresa un número: \n",
            "El valor ingresado no es un número válido.\n",
            "Ingresa un número: 0\n",
            "Ingresa un número: 8\n",
            "Los dos números son iguales? False\n",
            "Los dos números son diferentes? True\n",
            "El primero es mayor que el segundo? False\n",
            "El segundo es mayor o igual que el primero? True\n"
          ]
        }
      ]
    }
  ]
}